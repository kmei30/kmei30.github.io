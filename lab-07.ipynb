{
 "cells": [
  {
   "cell_type": "markdown",
   "metadata": {},
   "source": [
    "# Lab 07: Credit Card Fraud Detection"
   ]
  },
  {
   "cell_type": "markdown",
   "metadata": {},
   "source": [
    "---\n",
    "author: Katherine Mei\n",
    "date: October 25, 2024\n",
    "embed-resources: true\n",
    "---"
   ]
  },
  {
   "cell_type": "markdown",
   "metadata": {},
   "source": [
    "## Introduction"
   ]
  },
  {
   "cell_type": "markdown",
   "metadata": {},
   "source": [
    "In this report, we will use credit card transaction data to develop a model that detects fraud. Our objective is to create a model that can accurately identify fraudulent transactions, achieving an optimal balance between false positives and false negatives. For this purpose, we will use modified data from the Kaggle dataset Credit Card Fraud Detection."
   ]
  },
  {
   "cell_type": "markdown",
   "metadata": {},
   "source": [
    "## Methods"
   ]
  },
  {
   "cell_type": "code",
   "execution_count": 1,
   "metadata": {},
   "outputs": [],
   "source": [
    "# imports\n",
    "import pandas as pd\n",
    "from joblib import dump\n",
    "import seaborn as sns\n",
    "import matplotlib.pyplot as plt\n",
    "\n",
    "# machine learning\n",
    "from sklearn.model_selection import train_test_split\n",
    "from sklearn.impute import SimpleImputer\n",
    "from sklearn.preprocessing import OneHotEncoder, StandardScaler\n",
    "from sklearn.pipeline import Pipeline\n",
    "from sklearn.compose import ColumnTransformer\n",
    "from sklearn.model_selection import train_test_split, GridSearchCV\n",
    "from sklearn.preprocessing import StandardScaler\n",
    "from sklearn.metrics import make_scorer, accuracy_score, recall_score, precision_score, fbeta_score, confusion_matrix\n",
    "from sklearn.ensemble import RandomForestClassifier"
   ]
  },
  {
   "cell_type": "markdown",
   "metadata": {},
   "source": [
    "### Data"
   ]
  },
  {
   "cell_type": "code",
   "execution_count": 2,
   "metadata": {},
   "outputs": [
    {
     "data": {
      "text/html": [
       "<div>\n",
       "<style scoped>\n",
       "    .dataframe tbody tr th:only-of-type {\n",
       "        vertical-align: middle;\n",
       "    }\n",
       "\n",
       "    .dataframe tbody tr th {\n",
       "        vertical-align: top;\n",
       "    }\n",
       "\n",
       "    .dataframe thead th {\n",
       "        text-align: right;\n",
       "    }\n",
       "</style>\n",
       "<table border=\"1\" class=\"dataframe\">\n",
       "  <thead>\n",
       "    <tr style=\"text-align: right;\">\n",
       "      <th></th>\n",
       "      <th>PC01</th>\n",
       "      <th>PC02</th>\n",
       "      <th>PC03</th>\n",
       "      <th>PC04</th>\n",
       "      <th>PC05</th>\n",
       "      <th>PC06</th>\n",
       "      <th>PC07</th>\n",
       "      <th>PC08</th>\n",
       "      <th>PC09</th>\n",
       "      <th>PC10</th>\n",
       "      <th>...</th>\n",
       "      <th>PC21</th>\n",
       "      <th>PC22</th>\n",
       "      <th>PC23</th>\n",
       "      <th>PC24</th>\n",
       "      <th>PC25</th>\n",
       "      <th>PC26</th>\n",
       "      <th>PC27</th>\n",
       "      <th>PC28</th>\n",
       "      <th>Amount</th>\n",
       "      <th>Fraud</th>\n",
       "    </tr>\n",
       "  </thead>\n",
       "  <tbody>\n",
       "    <tr>\n",
       "      <th>57638</th>\n",
       "      <td>-0.514509</td>\n",
       "      <td>0.899378</td>\n",
       "      <td>1.627215</td>\n",
       "      <td>-0.142250</td>\n",
       "      <td>0.005250</td>\n",
       "      <td>-0.235422</td>\n",
       "      <td>0.482540</td>\n",
       "      <td>0.247403</td>\n",
       "      <td>-0.562327</td>\n",
       "      <td>-0.166813</td>\n",
       "      <td>...</td>\n",
       "      <td>-0.143290</td>\n",
       "      <td>-0.390205</td>\n",
       "      <td>0.030719</td>\n",
       "      <td>0.184779</td>\n",
       "      <td>-0.348711</td>\n",
       "      <td>0.073253</td>\n",
       "      <td>0.273217</td>\n",
       "      <td>0.107938</td>\n",
       "      <td>3.59</td>\n",
       "      <td>0</td>\n",
       "    </tr>\n",
       "    <tr>\n",
       "      <th>27686</th>\n",
       "      <td>-0.813568</td>\n",
       "      <td>-0.373893</td>\n",
       "      <td>1.152977</td>\n",
       "      <td>-0.449774</td>\n",
       "      <td>-3.868866</td>\n",
       "      <td>2.780636</td>\n",
       "      <td>3.654192</td>\n",
       "      <td>-0.672442</td>\n",
       "      <td>0.753230</td>\n",
       "      <td>-0.662803</td>\n",
       "      <td>...</td>\n",
       "      <td>-0.376783</td>\n",
       "      <td>-0.004239</td>\n",
       "      <td>0.074801</td>\n",
       "      <td>0.124238</td>\n",
       "      <td>-0.448493</td>\n",
       "      <td>0.861423</td>\n",
       "      <td>-0.093639</td>\n",
       "      <td>-0.711632</td>\n",
       "      <td>798.01</td>\n",
       "      <td>0</td>\n",
       "    </tr>\n",
       "    <tr>\n",
       "      <th>13321</th>\n",
       "      <td>-2.443142</td>\n",
       "      <td>3.258831</td>\n",
       "      <td>-0.791511</td>\n",
       "      <td>0.223548</td>\n",
       "      <td>0.007932</td>\n",
       "      <td>-1.263044</td>\n",
       "      <td>1.220214</td>\n",
       "      <td>-0.418068</td>\n",
       "      <td>1.860453</td>\n",
       "      <td>4.184883</td>\n",
       "      <td>...</td>\n",
       "      <td>-0.348587</td>\n",
       "      <td>0.531679</td>\n",
       "      <td>0.058990</td>\n",
       "      <td>0.371638</td>\n",
       "      <td>-0.207398</td>\n",
       "      <td>-0.505837</td>\n",
       "      <td>0.524542</td>\n",
       "      <td>-0.343895</td>\n",
       "      <td>1.79</td>\n",
       "      <td>0</td>\n",
       "    </tr>\n",
       "    <tr>\n",
       "      <th>28308</th>\n",
       "      <td>-0.397300</td>\n",
       "      <td>0.922104</td>\n",
       "      <td>1.224699</td>\n",
       "      <td>-0.334974</td>\n",
       "      <td>0.322603</td>\n",
       "      <td>-0.117372</td>\n",
       "      <td>0.534683</td>\n",
       "      <td>0.175550</td>\n",
       "      <td>-0.486404</td>\n",
       "      <td>-0.120147</td>\n",
       "      <td>...</td>\n",
       "      <td>-0.239303</td>\n",
       "      <td>-0.695001</td>\n",
       "      <td>-0.128231</td>\n",
       "      <td>-0.536463</td>\n",
       "      <td>-0.138971</td>\n",
       "      <td>0.107526</td>\n",
       "      <td>0.255644</td>\n",
       "      <td>0.100814</td>\n",
       "      <td>2.69</td>\n",
       "      <td>0</td>\n",
       "    </tr>\n",
       "    <tr>\n",
       "      <th>54252</th>\n",
       "      <td>1.994046</td>\n",
       "      <td>-0.367813</td>\n",
       "      <td>-0.462867</td>\n",
       "      <td>0.338661</td>\n",
       "      <td>-0.485326</td>\n",
       "      <td>-0.241576</td>\n",
       "      <td>-0.590987</td>\n",
       "      <td>0.089319</td>\n",
       "      <td>1.413224</td>\n",
       "      <td>-0.149292</td>\n",
       "      <td>...</td>\n",
       "      <td>-0.196388</td>\n",
       "      <td>-0.484457</td>\n",
       "      <td>0.421867</td>\n",
       "      <td>0.601393</td>\n",
       "      <td>-0.448014</td>\n",
       "      <td>-0.646256</td>\n",
       "      <td>0.027632</td>\n",
       "      <td>-0.027244</td>\n",
       "      <td>4.49</td>\n",
       "      <td>0</td>\n",
       "    </tr>\n",
       "    <tr>\n",
       "      <th>...</th>\n",
       "      <td>...</td>\n",
       "      <td>...</td>\n",
       "      <td>...</td>\n",
       "      <td>...</td>\n",
       "      <td>...</td>\n",
       "      <td>...</td>\n",
       "      <td>...</td>\n",
       "      <td>...</td>\n",
       "      <td>...</td>\n",
       "      <td>...</td>\n",
       "      <td>...</td>\n",
       "      <td>...</td>\n",
       "      <td>...</td>\n",
       "      <td>...</td>\n",
       "      <td>...</td>\n",
       "      <td>...</td>\n",
       "      <td>...</td>\n",
       "      <td>...</td>\n",
       "      <td>...</td>\n",
       "      <td>...</td>\n",
       "      <td>...</td>\n",
       "    </tr>\n",
       "    <tr>\n",
       "      <th>49499</th>\n",
       "      <td>-0.033583</td>\n",
       "      <td>-0.487672</td>\n",
       "      <td>1.435406</td>\n",
       "      <td>-2.759369</td>\n",
       "      <td>-1.785638</td>\n",
       "      <td>0.402364</td>\n",
       "      <td>-2.306038</td>\n",
       "      <td>-2.287179</td>\n",
       "      <td>0.129717</td>\n",
       "      <td>-1.036412</td>\n",
       "      <td>...</td>\n",
       "      <td>-1.286823</td>\n",
       "      <td>0.824100</td>\n",
       "      <td>0.018890</td>\n",
       "      <td>0.000018</td>\n",
       "      <td>0.301618</td>\n",
       "      <td>0.081215</td>\n",
       "      <td>0.163422</td>\n",
       "      <td>0.252456</td>\n",
       "      <td>10.00</td>\n",
       "      <td>0</td>\n",
       "    </tr>\n",
       "    <tr>\n",
       "      <th>29250</th>\n",
       "      <td>-0.731245</td>\n",
       "      <td>1.151677</td>\n",
       "      <td>0.912393</td>\n",
       "      <td>-0.653540</td>\n",
       "      <td>0.700577</td>\n",
       "      <td>-0.461372</td>\n",
       "      <td>1.093273</td>\n",
       "      <td>-0.126254</td>\n",
       "      <td>-0.339171</td>\n",
       "      <td>-0.467356</td>\n",
       "      <td>...</td>\n",
       "      <td>-0.368185</td>\n",
       "      <td>-0.991854</td>\n",
       "      <td>-0.376461</td>\n",
       "      <td>-0.661608</td>\n",
       "      <td>0.554237</td>\n",
       "      <td>0.450650</td>\n",
       "      <td>0.076395</td>\n",
       "      <td>0.096252</td>\n",
       "      <td>6.99</td>\n",
       "      <td>0</td>\n",
       "    </tr>\n",
       "    <tr>\n",
       "      <th>31586</th>\n",
       "      <td>2.135923</td>\n",
       "      <td>-0.714182</td>\n",
       "      <td>-1.842502</td>\n",
       "      <td>-0.587267</td>\n",
       "      <td>0.090754</td>\n",
       "      <td>-0.465733</td>\n",
       "      <td>-0.024834</td>\n",
       "      <td>-0.328747</td>\n",
       "      <td>-0.659832</td>\n",
       "      <td>0.853241</td>\n",
       "      <td>...</td>\n",
       "      <td>-0.537267</td>\n",
       "      <td>-1.081138</td>\n",
       "      <td>0.196589</td>\n",
       "      <td>0.087797</td>\n",
       "      <td>-0.111583</td>\n",
       "      <td>0.479888</td>\n",
       "      <td>-0.082523</td>\n",
       "      <td>-0.053305</td>\n",
       "      <td>64.90</td>\n",
       "      <td>0</td>\n",
       "    </tr>\n",
       "    <tr>\n",
       "      <th>14898</th>\n",
       "      <td>-0.335632</td>\n",
       "      <td>0.939736</td>\n",
       "      <td>-2.961515</td>\n",
       "      <td>-1.224739</td>\n",
       "      <td>4.446891</td>\n",
       "      <td>2.352092</td>\n",
       "      <td>0.789725</td>\n",
       "      <td>0.609460</td>\n",
       "      <td>-0.746845</td>\n",
       "      <td>-1.580751</td>\n",
       "      <td>...</td>\n",
       "      <td>-0.002116</td>\n",
       "      <td>0.009686</td>\n",
       "      <td>-0.428325</td>\n",
       "      <td>0.536043</td>\n",
       "      <td>0.278736</td>\n",
       "      <td>0.680976</td>\n",
       "      <td>-0.069295</td>\n",
       "      <td>0.051891</td>\n",
       "      <td>0.76</td>\n",
       "      <td>0</td>\n",
       "    </tr>\n",
       "    <tr>\n",
       "      <th>27636</th>\n",
       "      <td>-1.444958</td>\n",
       "      <td>1.264710</td>\n",
       "      <td>0.370500</td>\n",
       "      <td>-0.607371</td>\n",
       "      <td>0.155386</td>\n",
       "      <td>0.264429</td>\n",
       "      <td>-0.246528</td>\n",
       "      <td>0.703092</td>\n",
       "      <td>0.374768</td>\n",
       "      <td>-0.493145</td>\n",
       "      <td>...</td>\n",
       "      <td>0.271551</td>\n",
       "      <td>1.072854</td>\n",
       "      <td>-0.449656</td>\n",
       "      <td>0.122150</td>\n",
       "      <td>0.209835</td>\n",
       "      <td>-0.081948</td>\n",
       "      <td>0.034733</td>\n",
       "      <td>-0.131398</td>\n",
       "      <td>7.49</td>\n",
       "      <td>0</td>\n",
       "    </tr>\n",
       "  </tbody>\n",
       "</table>\n",
       "<p>54276 rows × 30 columns</p>\n",
       "</div>"
      ],
      "text/plain": [
       "           PC01      PC02      PC03      PC04      PC05      PC06      PC07  \\\n",
       "57638 -0.514509  0.899378  1.627215 -0.142250  0.005250 -0.235422  0.482540   \n",
       "27686 -0.813568 -0.373893  1.152977 -0.449774 -3.868866  2.780636  3.654192   \n",
       "13321 -2.443142  3.258831 -0.791511  0.223548  0.007932 -1.263044  1.220214   \n",
       "28308 -0.397300  0.922104  1.224699 -0.334974  0.322603 -0.117372  0.534683   \n",
       "54252  1.994046 -0.367813 -0.462867  0.338661 -0.485326 -0.241576 -0.590987   \n",
       "...         ...       ...       ...       ...       ...       ...       ...   \n",
       "49499 -0.033583 -0.487672  1.435406 -2.759369 -1.785638  0.402364 -2.306038   \n",
       "29250 -0.731245  1.151677  0.912393 -0.653540  0.700577 -0.461372  1.093273   \n",
       "31586  2.135923 -0.714182 -1.842502 -0.587267  0.090754 -0.465733 -0.024834   \n",
       "14898 -0.335632  0.939736 -2.961515 -1.224739  4.446891  2.352092  0.789725   \n",
       "27636 -1.444958  1.264710  0.370500 -0.607371  0.155386  0.264429 -0.246528   \n",
       "\n",
       "           PC08      PC09      PC10  ...      PC21      PC22      PC23  \\\n",
       "57638  0.247403 -0.562327 -0.166813  ... -0.143290 -0.390205  0.030719   \n",
       "27686 -0.672442  0.753230 -0.662803  ... -0.376783 -0.004239  0.074801   \n",
       "13321 -0.418068  1.860453  4.184883  ... -0.348587  0.531679  0.058990   \n",
       "28308  0.175550 -0.486404 -0.120147  ... -0.239303 -0.695001 -0.128231   \n",
       "54252  0.089319  1.413224 -0.149292  ... -0.196388 -0.484457  0.421867   \n",
       "...         ...       ...       ...  ...       ...       ...       ...   \n",
       "49499 -2.287179  0.129717 -1.036412  ... -1.286823  0.824100  0.018890   \n",
       "29250 -0.126254 -0.339171 -0.467356  ... -0.368185 -0.991854 -0.376461   \n",
       "31586 -0.328747 -0.659832  0.853241  ... -0.537267 -1.081138  0.196589   \n",
       "14898  0.609460 -0.746845 -1.580751  ... -0.002116  0.009686 -0.428325   \n",
       "27636  0.703092  0.374768 -0.493145  ...  0.271551  1.072854 -0.449656   \n",
       "\n",
       "           PC24      PC25      PC26      PC27      PC28  Amount  Fraud  \n",
       "57638  0.184779 -0.348711  0.073253  0.273217  0.107938    3.59      0  \n",
       "27686  0.124238 -0.448493  0.861423 -0.093639 -0.711632  798.01      0  \n",
       "13321  0.371638 -0.207398 -0.505837  0.524542 -0.343895    1.79      0  \n",
       "28308 -0.536463 -0.138971  0.107526  0.255644  0.100814    2.69      0  \n",
       "54252  0.601393 -0.448014 -0.646256  0.027632 -0.027244    4.49      0  \n",
       "...         ...       ...       ...       ...       ...     ...    ...  \n",
       "49499  0.000018  0.301618  0.081215  0.163422  0.252456   10.00      0  \n",
       "29250 -0.661608  0.554237  0.450650  0.076395  0.096252    6.99      0  \n",
       "31586  0.087797 -0.111583  0.479888 -0.082523 -0.053305   64.90      0  \n",
       "14898  0.536043  0.278736  0.680976 -0.069295  0.051891    0.76      0  \n",
       "27636  0.122150  0.209835 -0.081948  0.034733 -0.131398    7.49      0  \n",
       "\n",
       "[54276 rows x 30 columns]"
      ]
     },
     "execution_count": 2,
     "metadata": {},
     "output_type": "execute_result"
    }
   ],
   "source": [
    "# load data\n",
    "fraud = pd.read_parquet(\"https://cs307.org/lab-07/data/fraud.parquet\")\n",
    "\n",
    "fraud_train, fraud_test = train_test_split(\n",
    "    fraud,\n",
    "    test_size=0.20,\n",
    "    random_state=42,\n",
    "    stratify=fraud[\"Fraud\"],\n",
    ")\n",
    "\n",
    "fraud_train"
   ]
  },
  {
   "cell_type": "markdown",
   "metadata": {},
   "source": [
    "## Data Dictionary\n",
    "\n",
    "Each observation in the train, test, and (hidden) production data contains information about a particular credit card transaction.\n",
    "\n",
    "### Response\n",
    "\n",
    "- **Fraud** \n",
    "  - `int64`: status of the transaction. 1 indicates a fraudulent transaction and 0 indicates not fraud, a genuine transaction.\n",
    "\n",
    "### Features\n",
    "\n",
    "- **Amount**\n",
    "    - `float64`: amount (in dollars) of the transaction\n",
    "\n",
    "- **PC01 - PC28**\n",
    "    - `float64`: the 28 principal components that encode information such as location and type of purchase while preserving customer privacy"
   ]
  },
  {
   "cell_type": "code",
   "execution_count": 3,
   "metadata": {},
   "outputs": [
    {
     "data": {
      "text/plain": [
       "(54276, 30)"
      ]
     },
     "execution_count": 3,
     "metadata": {},
     "output_type": "execute_result"
    }
   ],
   "source": [
    "# summary statistics\n",
    "fraud_train.shape"
   ]
  },
  {
   "cell_type": "code",
   "execution_count": 4,
   "metadata": {},
   "outputs": [
    {
     "data": {
      "text/plain": [
       "Fraud\n",
       "0    53961\n",
       "1      315\n",
       "Name: count, dtype: int64"
      ]
     },
     "execution_count": 4,
     "metadata": {},
     "output_type": "execute_result"
    }
   ],
   "source": [
    "# counts and proportions\n",
    "type_counts = fraud_train['Fraud'].value_counts()\n",
    "type_counts"
   ]
  },
  {
   "cell_type": "code",
   "execution_count": 5,
   "metadata": {},
   "outputs": [
    {
     "data": {
      "text/plain": [
       "Fraud\n",
       "0    0.994196\n",
       "1    0.005804\n",
       "Name: count, dtype: float64"
      ]
     },
     "execution_count": 5,
     "metadata": {},
     "output_type": "execute_result"
    }
   ],
   "source": [
    "type_proportions = type_counts / len(fraud_train)\n",
    "type_proportions"
   ]
  },
  {
   "cell_type": "code",
   "execution_count": 6,
   "metadata": {},
   "outputs": [
    {
     "name": "stdout",
     "output_type": "stream",
     "text": [
      "Statistics for All Transactions (None):\n",
      "Mean: 88.19790275628269\n",
      "Standard Deviation: 241.53561659607715\n",
      "Median: 21.69\n",
      "Maximum: 10199.44\n",
      "Statistics for Non-Fraudulent Transactions:\n",
      "Mean: 88.06510368599545\n",
      "Standard Deviation: 241.45114392494762\n",
      "Median: 21.8\n",
      "Maximum: 10199.44\n",
      "Statistics for Fraudulent Transactions:\n",
      "Mean: 110.94701587301587\n",
      "Standard Deviation: 254.97895988379767\n",
      "Median: 6.99\n",
      "Maximum: 2125.87\n"
     ]
    }
   ],
   "source": [
    "# amount calculations\n",
    "\n",
    "mean_all = fraud_train['Amount'].mean()\n",
    "std_dev_all = fraud_train['Amount'].std()\n",
    "median_all = fraud_train['Amount'].median()\n",
    "max_all = fraud_train['Amount'].max()\n",
    "\n",
    "no_fraud_df = fraud_train[fraud_train['Fraud'] == 0]\n",
    "fraud_df = fraud_train[fraud_train['Fraud'] == 1]\n",
    "\n",
    "mean_no_fraud = no_fraud_df['Amount'].mean()\n",
    "std_dev_no_fraud = no_fraud_df['Amount'].std()\n",
    "median_no_fraud = no_fraud_df['Amount'].median()\n",
    "max_no_fraud = no_fraud_df['Amount'].max()\n",
    "\n",
    "mean_fraud = fraud_df['Amount'].mean()\n",
    "std_dev_fraud = fraud_df['Amount'].std()\n",
    "median_fraud = fraud_df['Amount'].median()\n",
    "max_fraud = fraud_df['Amount'].max()\n",
    "\n",
    "print(\"Statistics for All Transactions (None):\")\n",
    "print(\"Mean:\", mean_all)\n",
    "print(\"Standard Deviation:\", std_dev_all)\n",
    "print(\"Median:\", median_all)\n",
    "print(\"Maximum:\", max_all)\n",
    "\n",
    "print(\"Statistics for Non-Fraudulent Transactions:\")\n",
    "print(\"Mean:\", mean_no_fraud)\n",
    "print(\"Standard Deviation:\", std_dev_no_fraud)\n",
    "print(\"Median:\", median_no_fraud)\n",
    "print(\"Maximum:\", max_no_fraud)\n",
    "\n",
    "print(\"Statistics for Fraudulent Transactions:\")\n",
    "print(\"Mean:\", mean_fraud)\n",
    "print(\"Standard Deviation:\", std_dev_fraud)\n",
    "print(\"Median:\", median_fraud)\n",
    "print(\"Maximum:\", max_fraud)"
   ]
  },
  {
   "cell_type": "code",
   "execution_count": 7,
   "metadata": {},
   "outputs": [
    {
     "data": {
      "text/plain": [
       "Text(37.722222222222214, 0.5, 'Principal Component 2')"
      ]
     },
     "execution_count": 7,
     "metadata": {},
     "output_type": "execute_result"
    },
    {
     "data": {
      "image/png": "[encoded data removed]",
      "text/plain": [
       "<Figure size 600x600 with 3 Axes>"
      ]
     },
     "metadata": {},
     "output_type": "display_data"
    }
   ],
   "source": [
    "# visualizations\n",
    "v = sns.jointplot(\n",
    "    data=fraud_train, \n",
    "    x='PC01', \n",
    "    y='PC02', \n",
    "    hue='Fraud', \n",
    "    palette='viridis', \n",
    "    kind='scatter'\n",
    ")\n",
    "\n",
    "v.ax_joint.legend(title='Transaction Type')\n",
    "plt.suptitle('Principal Component 1 vs Principal Component 2 by Transaction Type', y=1.03)\n",
    "plt.xlabel('Principal Component 1')\n",
    "plt.ylabel('Principal Component 2')"
   ]
  },
  {
   "cell_type": "markdown",
   "metadata": {},
   "source": [
    "The jointplot visualization shows the relationships between the first two principal components, PC1 and PC2, from the credit card transaction data. The points are categorized as normal (0 and blue) or fraudulent (1 and green).\n",
    "\n",
    "Looking at the visualization, most of the normal transactions (0) are clustered around the center and lower ends of the PC1 axis. Fraudulent transactions (1) are clustered around the higher values of PC1, mostly from about -10 to 10 on the PC1 axis, and from 0 to 20 on the PC2 axis. Comparing the locations of normal and fraudulent transactions, there appears to be some separation between normal and fradulent transactions, especially along the PC1 axis. This suggests that PC1 may be capturing variances in the data that are significant for distinguishing between the two types of transactions. Additionally, there seems to be outliers in the data, particularly among the normal transactions. \n",
    "\n",
    "Looking at the marginal distributions, the marginal distribution for PC1 at the top shows two peaks, showing that there are two groups of densities in PC1 values. The right-side marginal distribution for PC2 shows a skewed distribution. \n"
   ]
  },
  {
   "cell_type": "markdown",
   "metadata": {},
   "source": [
    "### Models"
   ]
  },
  {
   "cell_type": "code",
   "execution_count": 8,
   "metadata": {},
   "outputs": [],
   "source": [
    "# process data for ML\n",
    "\n",
    "# create X and y for train\n",
    "X_train = fraud_train.drop(\"Fraud\", axis=1)\n",
    "y_train = fraud_train[\"Fraud\"]\n",
    "\n",
    "# create X and y for test\n",
    "X_test = fraud_test.drop(\"Fraud\", axis=1)\n",
    "y_test = fraud_test[\"Fraud\"]"
   ]
  },
  {
   "cell_type": "code",
   "execution_count": 9,
   "metadata": {},
   "outputs": [
    {
     "name": "stdout",
     "output_type": "stream",
     "text": [
      "Fitting 5 folds for each of 8 candidates, totalling 40 fits\n",
      "[CV] END Classifier=RandomForestClassifier(), Classifier__class_weight=balanced, Classifier__max_depth=5, Classifier__n_estimators=50; total time=   3.6s\n",
      "[CV] END Classifier=RandomForestClassifier(), Classifier__class_weight=balanced, Classifier__max_depth=5, Classifier__n_estimators=50; total time=   3.6s\n",
      "[CV] END Classifier=RandomForestClassifier(), Classifier__class_weight=balanced, Classifier__max_depth=5, Classifier__n_estimators=50; total time=   3.6s\n",
      "[CV] END Classifier=RandomForestClassifier(), Classifier__class_weight=balanced, Classifier__max_depth=5, Classifier__n_estimators=50; total time=   3.6s\n",
      "[CV] END Classifier=RandomForestClassifier(), Classifier__class_weight=balanced, Classifier__max_depth=5, Classifier__n_estimators=50; total time=   3.6s\n",
      "[CV] END Classifier=RandomForestClassifier(), Classifier__class_weight=balanced, Classifier__max_depth=5, Classifier__n_estimators=100; total time=   7.0s\n",
      "[CV] END Classifier=RandomForestClassifier(), Classifier__class_weight=balanced, Classifier__max_depth=5, Classifier__n_estimators=100; total time=   7.0s\n",
      "[CV] END Classifier=RandomForestClassifier(), Classifier__class_weight=balanced, Classifier__max_depth=5, Classifier__n_estimators=100; total time=   7.0s\n",
      "[CV] END Classifier=RandomForestClassifier(), Classifier__class_weight=balanced, Classifier__max_depth=5, Classifier__n_estimators=100; total time=   7.0s\n",
      "[CV] END Classifier=RandomForestClassifier(), Classifier__class_weight=balanced, Classifier__max_depth=5, Classifier__n_estimators=100; total time=   7.1s\n",
      "[CV] END Classifier=RandomForestClassifier(), Classifier__class_weight=balanced, Classifier__max_depth=10, Classifier__n_estimators=50; total time=   5.3s\n",
      "[CV] END Classifier=RandomForestClassifier(), Classifier__class_weight=balanced, Classifier__max_depth=10, Classifier__n_estimators=50; total time=   5.1s\n",
      "[CV] END Classifier=RandomForestClassifier(), Classifier__class_weight=balanced, Classifier__max_depth=10, Classifier__n_estimators=50; total time=   5.7s\n",
      "[CV] END Classifier=RandomForestClassifier(), Classifier__class_weight=balanced, Classifier__max_depth=10, Classifier__n_estimators=50; total time=   5.4s\n",
      "[CV] END Classifier=RandomForestClassifier(), Classifier__class_weight=balanced, Classifier__max_depth=10, Classifier__n_estimators=50; total time=   5.2s\n",
      "[CV] END Classifier=RandomForestClassifier(), Classifier__class_weight=balanced, Classifier__max_depth=10, Classifier__n_estimators=100; total time=  11.2s\n",
      "[CV] END Classifier=RandomForestClassifier(), Classifier__class_weight=balanced, Classifier__max_depth=10, Classifier__n_estimators=100; total time=   9.7s\n",
      "[CV] END Classifier=RandomForestClassifier(), Classifier__class_weight=balanced, Classifier__max_depth=10, Classifier__n_estimators=100; total time=  11.0s\n",
      "[CV] END Classifier=RandomForestClassifier(), Classifier__class_weight=balanced, Classifier__max_depth=10, Classifier__n_estimators=100; total time=  11.0s\n",
      "[CV] END Classifier=RandomForestClassifier(), Classifier__class_weight=balanced, Classifier__max_depth=10, Classifier__n_estimators=100; total time=  10.6s\n",
      "[CV] END Classifier=RandomForestClassifier(), Classifier__class_weight={0: 1, 1: 2}, Classifier__max_depth=5, Classifier__n_estimators=50; total time=   3.6s\n",
      "[CV] END Classifier=RandomForestClassifier(), Classifier__class_weight={0: 1, 1: 2}, Classifier__max_depth=5, Classifier__n_estimators=50; total time=   3.7s\n",
      "[CV] END Classifier=RandomForestClassifier(), Classifier__class_weight={0: 1, 1: 2}, Classifier__max_depth=5, Classifier__n_estimators=50; total time=   3.6s\n",
      "[CV] END Classifier=RandomForestClassifier(), Classifier__class_weight={0: 1, 1: 2}, Classifier__max_depth=5, Classifier__n_estimators=50; total time=   3.7s\n",
      "[CV] END Classifier=RandomForestClassifier(), Classifier__class_weight={0: 1, 1: 2}, Classifier__max_depth=5, Classifier__n_estimators=50; total time=   3.7s\n",
      "[CV] END Classifier=RandomForestClassifier(), Classifier__class_weight={0: 1, 1: 2}, Classifier__max_depth=5, Classifier__n_estimators=100; total time=   7.2s\n",
      "[CV] END Classifier=RandomForestClassifier(), Classifier__class_weight={0: 1, 1: 2}, Classifier__max_depth=5, Classifier__n_estimators=100; total time=   7.8s\n",
      "[CV] END Classifier=RandomForestClassifier(), Classifier__class_weight={0: 1, 1: 2}, Classifier__max_depth=5, Classifier__n_estimators=100; total time=   7.3s\n",
      "[CV] END Classifier=RandomForestClassifier(), Classifier__class_weight={0: 1, 1: 2}, Classifier__max_depth=5, Classifier__n_estimators=100; total time=   7.4s\n",
      "[CV] END Classifier=RandomForestClassifier(), Classifier__class_weight={0: 1, 1: 2}, Classifier__max_depth=5, Classifier__n_estimators=100; total time=   7.3s\n",
      "[CV] END Classifier=RandomForestClassifier(), Classifier__class_weight={0: 1, 1: 2}, Classifier__max_depth=10, Classifier__n_estimators=50; total time=   7.0s\n",
      "[CV] END Classifier=RandomForestClassifier(), Classifier__class_weight={0: 1, 1: 2}, Classifier__max_depth=10, Classifier__n_estimators=50; total time=   6.9s\n",
      "[CV] END Classifier=RandomForestClassifier(), Classifier__class_weight={0: 1, 1: 2}, Classifier__max_depth=10, Classifier__n_estimators=50; total time=   7.0s\n",
      "[CV] END Classifier=RandomForestClassifier(), Classifier__class_weight={0: 1, 1: 2}, Classifier__max_depth=10, Classifier__n_estimators=50; total time=   7.0s\n",
      "[CV] END Classifier=RandomForestClassifier(), Classifier__class_weight={0: 1, 1: 2}, Classifier__max_depth=10, Classifier__n_estimators=50; total time=   6.9s\n",
      "[CV] END Classifier=RandomForestClassifier(), Classifier__class_weight={0: 1, 1: 2}, Classifier__max_depth=10, Classifier__n_estimators=100; total time=  13.7s\n",
      "[CV] END Classifier=RandomForestClassifier(), Classifier__class_weight={0: 1, 1: 2}, Classifier__max_depth=10, Classifier__n_estimators=100; total time=  13.5s\n",
      "[CV] END Classifier=RandomForestClassifier(), Classifier__class_weight={0: 1, 1: 2}, Classifier__max_depth=10, Classifier__n_estimators=100; total time=  13.8s\n",
      "[CV] END Classifier=RandomForestClassifier(), Classifier__class_weight={0: 1, 1: 2}, Classifier__max_depth=10, Classifier__n_estimators=100; total time=  13.8s\n",
      "[CV] END Classifier=RandomForestClassifier(), Classifier__class_weight={0: 1, 1: 2}, Classifier__max_depth=10, Classifier__n_estimators=100; total time=  13.6s\n"
     ]
    }
   ],
   "source": [
    "# train models\n",
    "numeric_features = X_train.select_dtypes(include=[\"int64\", \"float64\"]).columns.tolist()\n",
    "\n",
    "# pipeline for numeric\n",
    "numeric_transformer = Pipeline(\n",
    "    steps=[\n",
    "        ('imputer', SimpleImputer(strategy='mean')),\n",
    "        ('scaler', StandardScaler())\n",
    "    ]\n",
    ")\n",
    "\n",
    "# combine preprocessing\n",
    "preprocessor = ColumnTransformer(\n",
    "    transformers=[\n",
    "        ('num', numeric_transformer, numeric_features)\n",
    "    ]\n",
    ")\n",
    "\n",
    "# full pipeline\n",
    "pipeline = Pipeline(\n",
    "    steps=[\n",
    "        (\"Preprocessor\", preprocessor),\n",
    "        (\"Classifier\", RandomForestClassifier()) \n",
    "    ]\n",
    ")\n",
    "\n",
    "# train models\n",
    "param_grid = {\n",
    "        \"Classifier\": [RandomForestClassifier()],\n",
    "        \"Classifier__n_estimators\": [50, 100],\n",
    "        \"Classifier__max_depth\": [5, 10],   \n",
    "        \"Classifier__class_weight\": ['balanced', {0: 1, 1: 2}]\n",
    "}\n",
    "\n",
    "# scoring\n",
    "scoring = make_scorer(fbeta_score, beta=5)\n",
    "\n",
    "#gridsearch\n",
    "grid_search = GridSearchCV(\n",
    "    pipeline,\n",
    "    param_grid=param_grid,\n",
    "    cv=5,\n",
    "    verbose=2,\n",
    "    scoring=scoring,\n",
    "    refit='accuracy' \n",
    ")\n",
    "\n",
    "mod = grid_search.fit(X_train, y_train)"
   ]
  },
  {
   "cell_type": "markdown",
   "metadata": {},
   "source": [
    "The first part of the modeling process involves preparing the data to ensure it is ready for analysis. All numeric features from the dataset are selected and these features undergo two main transformations: imputation and standardization. Imputation replaces missing values with the mean of the feature, and standardization adjusts the feature to help the data become normalized across all features.\n",
    "\n",
    "The second part involves the construction of the model. The model combines the preprocessing steps mentioned earlier and classifies them with a Random Forest Classifier. In order to optimize the model, a grid search is used, where it tests different instances of the Random Forest Classifier. The different instances include different parameters, such as the number of decision trees in the forest, the maximum depth of the trees, and the class weights.\n",
    "\n",
    "The third part involves evaluating the model. To do so, a scoring function that prioritizes recall over precision is used, where a beta value of 5 is set in the F-beta score calculation. Integrating the scoring function into the grid search, then the grid search performs a 5-fold cross-validation to validate the model's performance. "
   ]
  },
  {
   "cell_type": "markdown",
   "metadata": {},
   "source": [
    "## Results"
   ]
  },
  {
   "cell_type": "code",
   "execution_count": 10,
   "metadata": {},
   "outputs": [
    {
     "name": "stdout",
     "output_type": "stream",
     "text": [
      "Best parameters: {'Classifier': RandomForestClassifier(), 'Classifier__class_weight': 'balanced', 'Classifier__max_depth': 5, 'Classifier__n_estimators': 100}\n"
     ]
    }
   ],
   "source": [
    "print(\"Best parameters:\", mod.best_params_)"
   ]
  },
  {
   "cell_type": "markdown",
   "metadata": {},
   "source": [
    "The selected model is a Random Forest Classifier, with a class weight of \"balanced\" to address class imbalances. It has a maximum depth of 5 levels for each tree and consists of 100 decision trees in the forest."
   ]
  },
  {
   "cell_type": "code",
   "execution_count": 11,
   "metadata": {},
   "outputs": [
    {
     "name": "stdout",
     "output_type": "stream",
     "text": [
      "Precision: 0.8271604938271605\n",
      "Recall: 0.8481012658227848\n"
     ]
    }
   ],
   "source": [
    "# report model metrics\n",
    "y_pred = mod.predict(X_test)\n",
    "\n",
    "# Calculate precision and recall\n",
    "precision = precision_score(y_test, y_pred)\n",
    "recall = recall_score(y_test, y_pred)\n",
    "\n",
    "# Print results\n",
    "print(\"Precision:\", precision)\n",
    "print(\"Recall:\", recall)"
   ]
  },
  {
   "cell_type": "markdown",
   "metadata": {},
   "source": [
    "The selected model and its parameters yields a precision score of 0.817 and a recall score of 0.848."
   ]
  },
  {
   "cell_type": "markdown",
   "metadata": {},
   "source": [
    "## Discussion"
   ]
  },
  {
   "cell_type": "markdown",
   "metadata": {},
   "source": [
    "The selected Random Forest Classifier and its parameters have a precision score of 0.82 and a recall score of 0.85. The precision score measures the accuracy of positive predictions. In this case, the precision score tells us that there is a high percentage of positive predictions that were correct. A high precision score indicates a low rate of false positives. On the other hand, the recall score measures the model's ability to find all true positives in the dataset. A high recall score indicates a low rate of false negatives. \n",
    "\n",
    "In the context of fraudulent activity detection in credit card transactions, recall is more important than precision. The reason why recall becomes more important is because, as mentioned earlier, recall indicates the rate of false negatives. A false negative is when a test incorrectly identifies a condition as present when it is not. For example, if a fraud detection system fails to flag a transaction that is fraudulent and allows it to process through, this would be a false negative. Undetected fraudulent transactions can greatly effect both the cardholder and the banking insitution with the credit card. The loss on both sides can reach extremes, which is why it is important to identify as many fraud cases as possible. The reason a false positive is not as crucial is because a false positive indicate a transaction flagged as fraudulent, but is not. A false positive has less serious consequences than a false negative. From a monetary perspective, a false positive would be less expensive on both parties than a false negative. In this scenario, the recall value is not high enough. The recall score is 85%, leaving still a 15% chance of false negatives taking place. \n",
    "\n",
    "Another point to consider is trust between cardholders and their banking institutions. In recent years, there has been an observed trend of lower trust between younger generations and banking insitutions (Smith). The younger generations are the future customers of banking insitutions. Therefore, it is essential these banking institutions gain and retain the trust of the younger generations. Fraudulent activity detection is a prime way for banking institutions to build that trust. Therefore, a model that prioritizes recall, which relates to a low rate of false negatives, is more important than precision, which focuses more on false positives.\n",
    "\n",
    "Taking all of this into account, it would not be adequate to use this model to identify fraudulent transactions. The recall score of 0.85 is too low, leading to an increased risk of missed fraudulent activity. If the model's recall score can be significantly improved, at least to 0.95, then the model may be useful in a practical setting.\n",
    "\n",
    "References:\n",
    "Smith, Kevin. “From Skepticism to Trust: How Banks Can Win Over Younger Generations.” Mighty Roar, 18 September 2023, https://www.mightyroar.com/blog/how-banks-can-win-over-younger-generations. Accessed 4 November 2024."
   ]
  },
  {
   "cell_type": "markdown",
   "metadata": {},
   "source": [
    "### Conclusion"
   ]
  },
  {
   "cell_type": "markdown",
   "metadata": {},
   "source": [
    "Taking practicality reasons into consideration, the developed Random Forest Classifier Model should not be used to detect fraudulent transactions."
   ]
  },
  {
   "cell_type": "code",
   "execution_count": 12,
   "metadata": {},
   "outputs": [
    {
     "data": {
      "text/plain": [
       "['credit-fraud.joblib']"
      ]
     },
     "execution_count": 12,
     "metadata": {},
     "output_type": "execute_result"
    }
   ],
   "source": [
    "dump(mod, \"credit-fraud.joblib\", compress = 9)"
   ]
  }
 ],
 "metadata": {
  "kernelspec": {
   "display_name": "Python 3",
   "language": "python",
   "name": "python3"
  },
  "language_info": {
   "codemirror_mode": {
    "name": "ipython",
    "version": 3
   },
   "file_extension": ".py",
   "mimetype": "text/x-python",
   "name": "python",
   "nbconvert_exporter": "python",
   "pygments_lexer": "ipython3",
   "version": "3.12.5"
  }
 },
 "nbformat": 4,
 "nbformat_minor": 2
}
